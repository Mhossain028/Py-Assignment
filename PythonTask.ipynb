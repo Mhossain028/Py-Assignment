{
 "cells": [
  {
   "cell_type": "code",
   "execution_count": 3,
   "metadata": {},
   "outputs": [
    {
     "name": "stdout",
     "output_type": "stream",
     "text": [
      "Hello World\n"
     ]
    }
   ],
   "source": [
    "print('Hello World')"
   ]
  },
  {
   "cell_type": "code",
   "execution_count": 2,
   "metadata": {},
   "outputs": [
    {
     "name": "stdout",
     "output_type": "stream",
     "text": [
      "1505\n",
      "1540\n",
      "1575\n",
      "1610\n",
      "1645\n",
      "1680\n",
      "1715\n",
      "1750\n",
      "1785\n",
      "1820\n",
      "1855\n",
      "1890\n",
      "1925\n",
      "1960\n",
      "1995\n",
      "2030\n",
      "2065\n",
      "2100\n",
      "2135\n",
      "2170\n",
      "2205\n",
      "2240\n",
      "2275\n",
      "2310\n",
      "2345\n",
      "2380\n",
      "2415\n",
      "2450\n",
      "2485\n",
      "2520\n",
      "2555\n",
      "2590\n",
      "2625\n",
      "2660\n",
      "2695\n"
     ]
    }
   ],
   "source": [
    "a = 7\n",
    "b = 5\n",
    "i = 1499\n",
    "\n",
    "while i<2700:\n",
    "    i = i+1\n",
    "    \n",
    "    if (i%7 == 0) and (i%5 == 0):\n",
    "        print(i)\n",
    "    "
   ]
  },
  {
   "cell_type": "code",
   "execution_count": 5,
   "metadata": {},
   "outputs": [
    {
     "name": "stdout",
     "output_type": "stream",
     "text": [
      "Enter Temperature: 20.5\n",
      "Fahrenheit:  68.9\n"
     ]
    }
   ],
   "source": [
    "celsius = float(input(\"Enter Temperature: \"))\n",
    "fahrenheit =  (celsius * 9/5)+32\n",
    "print (\"Fahrenheit: \", fahrenheit)"
   ]
  },
  {
   "cell_type": "code",
   "execution_count": 6,
   "metadata": {},
   "outputs": [
    {
     "name": "stdout",
     "output_type": "stream",
     "text": [
      "Enter Temperature: 322\n",
      "Celsius:  161.11111111111111\n"
     ]
    }
   ],
   "source": [
    "fahrenheit = float(input(\"Enter Temperature: \"))\n",
    "celsius = (fahrenheit - 32) * 5/9\n",
    "print(\"Celsius: \", celsius)"
   ]
  },
  {
   "cell_type": "code",
   "execution_count": 1,
   "metadata": {},
   "outputs": [
    {
     "name": "stdout",
     "output_type": "stream",
     "text": [
      "Enter an integer number: 36\n",
      "Ok\n"
     ]
    }
   ],
   "source": [
    "n = int(input(\"Enter an integer number: \"))\n",
    "\n",
    "if n % 2 != 0:\n",
    "    print (\"OK\")\n",
    "else:\n",
    "    if n>=2 and n<=5:\n",
    "        print(\"Not Ok\")\n",
    "    elif n>=6 and n<=20:\n",
    "        print(\"Ok\")\n",
    "    elif n>20:\n",
    "        print(\"Ok\")"
   ]
  },
  {
   "cell_type": "code",
   "execution_count": 1,
   "metadata": {},
   "outputs": [
    {
     "name": "stdout",
     "output_type": "stream",
     "text": [
      "Enter a number: 45\n",
      "Enter a number: 45\n",
      "Enter a number: done\n",
      "Maximum is 45\n",
      "Minimum is None\n"
     ]
    }
   ],
   "source": [
    "largest = None\n",
    "smallest = None\n",
    "nums = []\n",
    "while True:\n",
    "    num = input(\"Enter a number: \")\n",
    "    if num == \"done\" : break\n",
    "    nums.append(num)\n",
    "    nums.sort()    \n",
    "for num in nums:\n",
    "    try:\n",
    "        if largest is None or int(num) > largest:\n",
    "            largest = int(num)\n",
    "        elif smallest is None and int(num) < largest:\n",
    "            smallest = int(num)\n",
    "        elif int(num) < largest and int(num) < smallest:\n",
    "            smallest = int(num)\n",
    "    except:\n",
    "        print(\"Invalid input\")\n",
    "print(\"Maximum is\", largest)\n",
    "print(\"Minimum is\", smallest)"
   ]
  },
  {
   "cell_type": "code",
   "execution_count": 15,
   "metadata": {},
   "outputs": [
    {
     "name": "stdout",
     "output_type": "stream",
     "text": [
      "Enter a starting number: 100\n",
      "Enter a ending number: 0\n"
     ]
    }
   ],
   "source": [
    "a = int(input(\"Enter a starting number: \"))\n",
    "b = int(input(\"Enter a ending number: \")) \n",
    "\n"
   ]
  },
  {
   "cell_type": "code",
   "execution_count": 16,
   "metadata": {},
   "outputs": [],
   "source": [
    "for num in range(a,b+1):\n",
    "    if (num%2==0):\n",
    "        print(num)"
   ]
  },
  {
   "cell_type": "code",
   "execution_count": 17,
   "metadata": {},
   "outputs": [],
   "source": [
    "for num2 in range(a,b+1):\n",
    "    if(num2%2!=0):\n",
    "        print(num2)\n"
   ]
  },
  {
   "cell_type": "code",
   "execution_count": 5,
   "metadata": {},
   "outputs": [
    {
     "name": "stdout",
     "output_type": "stream",
     "text": [
      "-10\n",
      "-9\n",
      "-8\n",
      "-7\n",
      "-6\n",
      "-5\n",
      "-4\n",
      "-3\n",
      "-2\n",
      "-1\n",
      "0\n",
      "1\n",
      "2\n",
      "3\n",
      "4\n",
      "5\n",
      "6\n",
      "7\n",
      "8\n",
      "9\n",
      "10\n",
      "11\n",
      "12\n",
      "13\n",
      "14\n",
      "15\n",
      "16\n",
      "17\n",
      "18\n",
      "19\n",
      "20\n",
      "21\n",
      "22\n",
      "23\n",
      "24\n",
      "25\n",
      "26\n",
      "27\n",
      "28\n",
      "29\n",
      "30\n",
      "31\n",
      "32\n",
      "33\n",
      "34\n",
      "35\n",
      "36\n",
      "37\n",
      "38\n",
      "39\n",
      "40\n",
      "41\n",
      "42\n",
      "43\n",
      "44\n",
      "45\n",
      "46\n",
      "47\n",
      "48\n",
      "49\n",
      "50\n",
      "51\n",
      "52\n",
      "53\n",
      "54\n",
      "55\n",
      "56\n",
      "57\n",
      "58\n",
      "59\n",
      "60\n",
      "61\n",
      "62\n",
      "63\n",
      "64\n",
      "65\n",
      "66\n",
      "67\n",
      "68\n",
      "69\n",
      "70\n",
      "71\n",
      "72\n",
      "73\n",
      "74\n",
      "75\n",
      "76\n",
      "77\n",
      "78\n",
      "79\n",
      "80\n",
      "81\n",
      "82\n",
      "83\n",
      "84\n",
      "85\n",
      "86\n",
      "87\n",
      "88\n",
      "89\n",
      "90\n",
      "91\n",
      "92\n",
      "93\n",
      "94\n",
      "95\n",
      "96\n",
      "97\n",
      "98\n",
      "99\n",
      "100\n"
     ]
    }
   ],
   "source": [
    "for value in range (-10,101,1):\n",
    "    print(value)"
   ]
  },
  {
   "cell_type": "code",
   "execution_count": 3,
   "metadata": {},
   "outputs": [
    {
     "name": "stdout",
     "output_type": "stream",
     "text": [
      "\n",
      "\n",
      "1\n",
      "\n",
      "22\n",
      "\n",
      "333\n",
      "\n",
      "4444\n",
      "\n",
      "55555\n",
      "\n",
      "666666\n",
      "\n",
      "7777777\n",
      "\n",
      "88888888\n",
      "\n",
      "999999999\n",
      "\n"
     ]
    }
   ],
   "source": [
    "for num in range(10):\n",
    "    for i in range(num):\n",
    "        print (num, end=\"\") \n",
    "\n",
    "    print(\"\\n\")"
   ]
  },
  {
   "cell_type": "code",
   "execution_count": 6,
   "metadata": {},
   "outputs": [
    {
     "name": "stdout",
     "output_type": "stream",
     "text": [
      "                 1 \n",
      "               1 2 1 \n",
      "             1 2 3 2 1 \n",
      "           1 2 3 4 3 2 1 \n",
      "         1 2 3 4 5 4 3 2 1 \n",
      "       1 2 3 4 5 6 5 4 3 2 1 \n",
      "     1 2 3 4 5 6 7 6 5 4 3 2 1 \n",
      "   1 2 3 4 5 6 7 8 7 6 5 4 3 2 1 \n",
      " 1 2 3 4 5 6 7 8 9 8 7 6 5 4 3 2 1 \n",
      "   1 2 3 4 5 6 7 8 \n",
      "     1 2 3 4 5 6 7 \n",
      "       1 2 3 4 5 6 \n",
      "         1 2 3 4 5 \n",
      "           1 2 3 4 \n",
      "             1 2 3 \n",
      "               1 2 \n",
      "                 1 \n"
     ]
    }
   ],
   "source": [
    "for i in range(1,10):\n",
    "    a = 1\n",
    "    b = i-1\n",
    "    print((9-i) * \"  \", end=\" \")\n",
    "    for j in range(i):\n",
    "        print(a, end=\" \")\n",
    "        a += 1\n",
    "    for k in range(i-1):\n",
    "        print(b, end=\" \")\n",
    "        b -= 1\n",
    "    print(\"\")\n",
    "\n",
    "for x in range(1,9):\n",
    "    c = 1\n",
    "    print(x * \"  \", end=\" \")\n",
    "    for y in range(9-x):\n",
    "        print(c, end=\" \")\n",
    "        c += 1\n",
    "    print(\"\")"
   ]
  },
  {
   "cell_type": "code",
   "execution_count": 10,
   "metadata": {},
   "outputs": [
    {
     "name": "stdout",
     "output_type": "stream",
     "text": [
      "0\t0\t0\t0\t0\t0\t0\t0\t0\t0\t\n",
      "0\t1\t2\t3\t4\t5\t6\t7\t8\t9\t\n",
      "0\t2\t4\t6\t8\t10\t12\t14\t16\t18\t\n",
      "0\t3\t6\t9\t12\t15\t18\t21\t24\t27\t\n",
      "0\t4\t8\t12\t16\t20\t24\t28\t32\t36\t\n",
      "0\t5\t10\t15\t20\t25\t30\t35\t40\t45\t\n",
      "0\t6\t12\t18\t24\t30\t36\t42\t48\t54\t\n",
      "0\t7\t14\t21\t28\t35\t42\t49\t56\t63\t\n",
      "0\t8\t16\t24\t32\t40\t48\t56\t64\t72\t\n",
      "0\t9\t18\t27\t36\t45\t54\t63\t72\t81\t\n"
     ]
    }
   ],
   "source": [
    "for i in range(10):\n",
    "    a = 0\n",
    "    for j in range(10):\n",
    "        print(a * i, end=\"\\t\")\n",
    "        a += 1\n",
    "    print(\"\")"
   ]
  },
  {
   "cell_type": "code",
   "execution_count": 21,
   "metadata": {},
   "outputs": [
    {
     "name": "stdout",
     "output_type": "stream",
     "text": [
      "99\n",
      "97\n",
      "95\n",
      "93\n",
      "91\n",
      "89\n",
      "87\n",
      "85\n",
      "83\n",
      "81\n",
      "79\n",
      "77\n",
      "75\n",
      "73\n",
      "71\n",
      "69\n",
      "67\n",
      "65\n",
      "63\n",
      "61\n",
      "59\n",
      "57\n",
      "55\n",
      "53\n",
      "51\n",
      "49\n",
      "47\n",
      "45\n",
      "43\n",
      "41\n",
      "39\n",
      "37\n",
      "35\n",
      "33\n",
      "31\n",
      "29\n",
      "27\n",
      "25\n",
      "23\n",
      "21\n",
      "19\n",
      "17\n",
      "15\n",
      "13\n",
      "11\n",
      "9\n",
      "7\n",
      "5\n",
      "3\n",
      "1\n"
     ]
    }
   ],
   "source": [
    "for a in range(99,0,-2):\n",
    "     print(a)\n",
    "            \n",
    "    "
   ]
  },
  {
   "cell_type": "code",
   "execution_count": null,
   "metadata": {},
   "outputs": [],
   "source": []
  }
 ],
 "metadata": {
  "kernelspec": {
   "display_name": "Python 3",
   "language": "python",
   "name": "python3"
  },
  "language_info": {
   "codemirror_mode": {
    "name": "ipython",
    "version": 3
   },
   "file_extension": ".py",
   "mimetype": "text/x-python",
   "name": "python",
   "nbconvert_exporter": "python",
   "pygments_lexer": "ipython3",
   "version": "3.7.6"
  }
 },
 "nbformat": 4,
 "nbformat_minor": 4
}
